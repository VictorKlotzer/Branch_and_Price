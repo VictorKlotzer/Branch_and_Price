{
 "cells": [
  {
   "cell_type": "markdown",
   "metadata": {},
   "source": [
    "# **Projet de programmation mathématique avancée**\n",
    "## **- Kidney exchange problem -**\n",
    "### Anna Kerebel, Hiba Shaimed, Kefan Sun, Victor Klötzer, Vinh Nguyen\n",
    "\n",
    " *14 mai 2021*\n",
    "\n",
    "---\n",
    "\n",
    "1. bla\n",
    "2. blabla\n",
    "\n",
    "$\\phantom{saut de ligne}$\n",
    "\n",
    "Dans ce projet, on s'intéresse à blablabla."
   ]
  },
  {
   "cell_type": "code",
   "execution_count": 1,
   "metadata": {},
   "outputs": [
    {
     "name": "stdout",
     "output_type": "stream",
     "text": [
      "Academic license - for non-commercial use only - expires 2021-06-25\r\n"
     ]
    },
    {
     "data": {
      "text/plain": [
       "1.0e-5"
      ]
     },
     "execution_count": 1,
     "metadata": {},
     "output_type": "execute_result"
    }
   ],
   "source": [
    "# Pakages utilisés\n",
    "using JuMP \n",
    "using Gurobi\n",
    "using DelimitedFiles\n",
    "using LightGraphs\n",
    "using MetaGraphs\n",
    "using NBInclude\n",
    "const GUROBI_ENV = Gurobi.Env()\n",
    "const ϵ = 0.00001"
   ]
  },
  {
   "cell_type": "code",
   "execution_count": 30,
   "metadata": {},
   "outputs": [
    {
     "data": {
      "text/plain": [
       "solve_MIP (generic function with 2 methods)"
      ]
     },
     "execution_count": 30,
     "metadata": {},
     "output_type": "execute_result"
    }
   ],
   "source": [
    "# Importation des autres fonctions\n",
    "\n",
    "@nbinclude(\"01_data.ipynb\")\n",
    "@nbinclude(\"02_node.ipynb\")\n",
    "@nbinclude(\"03_master.ipynb\")\n",
    "@nbinclude(\"04_subproblem.ipynb\")\n",
    "@nbinclude(\"05_branch_and_price.ipynb\")\n",
    "@nbinclude(\"06_MIP.ipynb\")"
   ]
  },
  {
   "cell_type": "code",
   "execution_count": 36,
   "metadata": {},
   "outputs": [
    {
     "name": "stdout",
     "output_type": "stream",
     "text": [
      "********* Read instance MD-00001-00000071 *********\n",
      "Nombre de couples donneur/receveur          : 64\n",
      "Nombre d'arcs                               : 1191\n",
      "Longueur maximale autorisée pour les cycles : 3\n"
     ]
    }
   ],
   "source": [
    "# Présentation des données\n",
    "\n",
    "#=\n",
    "https://juliagraphs.org/LightGraphs.jl/v1.1/pathing.html#Cycle-Detection-1\n",
    "=#\n",
    "\n",
    "data_folder = string(join(split(@__DIR__, '\\\\')[1:end-1],'\\\\'),\"\\\\data\")\n",
    "instance = \"MD-00001-00000071\"\n",
    "wmd_file = joinpath(data_folder, join([instance, \".wmd\"]))\n",
    "dat_file = joinpath(data_folder, join([instance, \".dat\"]))\n",
    "global GRAPH = read_graph(wmd_file, dat_file)\n",
    "global VERTICES = 1:nv(GRAPH)\n",
    "global EDGES = [(e.src,e.dst) for e in edges(GRAPH)]\n",
    "global L = 3\n",
    "global WEIGHTS = Dict{Tuple{Int,Int},Float32}((e.src,e.dst) => get_prop(GRAPH, e, :weight) for e in edges(GRAPH));\n",
    "\n",
    "# À revoir\n",
    "println(\"Nombre de couples donneur/receveur          : $(nv(GRAPH))\")\n",
    "println(\"Nombre d'arcs                               : $(ne(GRAPH))\")\n",
    "println(\"Longueur maximale autorisée pour les cycles : $L\")"
   ]
  },
  {
   "cell_type": "code",
   "execution_count": 37,
   "metadata": {},
   "outputs": [
    {
     "name": "stdout",
     "output_type": "stream",
     "text": [
      "Academic license - for non-commercial use only - expires 2021-06-25\r\n",
      "Gurobi Optimizer version 9.1.1 build v9.1.1rc0 (win64)\r\n",
      "Thread count: 4 physical cores, 8 logical processors, using up to 8 threads\r\n",
      "Optimize a model with 64 rows, 1595 columns and 4644 nonzeros\r\n",
      "Model fingerprint: 0xfb52e18e\r\n",
      "Variable types: 0 continuous, 1595 integer (1595 binary)\r\n",
      "Coefficient statistics:\r\n",
      "  Matrix range     [1e+00, 1e+00]\r\n",
      "  Objective range  [2e+00, 3e+00]\r\n",
      "  Bounds range     [0e+00, 0e+00]\r\n",
      "  RHS range        [1e+00, 1e+00]\r\n",
      "Found heuristic solution: objective 39.0000000\r\n",
      "Presolve removed 5 rows and 413 columns\r\n",
      "Presolve time: 0.01s\r\n",
      "Presolved: 59 rows, 1182 columns, 3415 nonzeros\r\n",
      "Found heuristic solution: objective 41.0000000\r\n",
      "Variable types: 0 continuous, 1182 integer (1182 binary)\r\n",
      "\r\n",
      "Root relaxation: objective 4.700000e+01, 192 iterations, 0.00 seconds\r\n",
      "\r\n",
      "    Nodes    |    Current Node    |     Objective Bounds      |     Work\r\n",
      " Expl Unexpl |  Obj  Depth IntInf | Incumbent    BestBd   Gap | It/Node Time\r\n",
      "\r\n",
      "*    0     0               0      47.0000000   47.00000  0.00%     -    0s\r\n",
      "\r\n",
      "Explored 0 nodes (192 simplex iterations) in 0.02 seconds\r\n",
      "Thread count was 8 (of 8 available processors)\r\n",
      "\r\n",
      "Solution count 3: 47 41 39 \r\n",
      "\r\n",
      "Optimal solution found (tolerance 1.00e-04)\r\n",
      "Best objective 4.700000000000e+01, best bound 4.700000000000e+01, gap 0.0000%\r\n",
      "\r\n",
      "User-callback calls 54, time in user-callback 0.00 sec\r\n"
     ]
    },
    {
     "data": {
      "text/plain": [
       "(value = (47.0, [-0.0, -0.0, -0.0, -0.0, 0.0, -0.0, -0.0, -0.0, -0.0, 0.0  …  0.0, -0.0, 0.0, 0.0, 0.0, 0.0, 0.0, 0.0, 0.0, 0.0]), time = 0.0333135, bytes = 3659072, gctime = 0.0, gcstats = Base.GC_Diff(3659072, 13, 0, 57508, 170, 0, 0, 0, 0))"
      ]
     },
     "execution_count": 37,
     "metadata": {},
     "output_type": "execute_result"
    }
   ],
   "source": [
    "result_MIP = @timed solve_MIP()"
   ]
  },
  {
   "cell_type": "code",
   "execution_count": null,
   "metadata": {
    "scrolled": false
   },
   "outputs": [
    {
     "name": "stdout",
     "output_type": "stream",
     "text": [
      "Liste des noeuds qu'il reste à traiter : [1]\n",
      "\u001b[93mNOEUD n°1 :\u001b[00m\n",
      " \u001b[93m|\u001b[32m  Meilleure solution réalisable (entière) de valeur 1.0 trouvée \u001b[00m\n",
      " \u001b[93m|\u001b[32m  Meilleure solution réalisable (entière) de valeur 2.0 trouvée \u001b[00m\n",
      " \u001b[93m|\u001b[32m  Meilleure solution réalisable (entière) de valeur 3.0 trouvée \u001b[00m\n",
      " \u001b[93m|\u001b[32m  Meilleure solution réalisable (entière) de valeur 6.0 trouvée \u001b[00m\n",
      " \u001b[93m|\u001b[32m  Meilleure solution réalisable (entière) de valeur 8.0 trouvée \u001b[00m\n",
      " \u001b[93m|\u001b[32m  Meilleure solution réalisable (entière) de valeur 9.0 trouvée \u001b[00m\n",
      " \u001b[93m|\u001b[32m  Meilleure solution réalisable (entière) de valeur 11.0 trouvée \u001b[00m\n",
      " \u001b[93m|\u001b[32m  Meilleure solution réalisable (entière) de valeur 12.0 trouvée \u001b[00m\n",
      " \u001b[93m|\u001b[32m  Meilleure solution réalisable (entière) de valeur 14.0 trouvée \u001b[00m\n",
      " \u001b[93m|\u001b[32m  Meilleure solution réalisable (entière) de valeur 15.0 trouvée \u001b[00m\n",
      " \u001b[93m|\u001b[32m  Meilleure solution réalisable (entière) de valeur 16.0 trouvée \u001b[00m\n",
      " \u001b[93m|\u001b[32m  Meilleure solution réalisable (entière) de valeur 17.0 trouvée \u001b[00m\n",
      " \u001b[93m|\u001b[32m  Meilleure solution réalisable (entière) de valeur 18.0 trouvée \u001b[00m\n",
      " \u001b[93m|\u001b[32m  Meilleure solution réalisable (entière) de valeur 20.0 trouvée \u001b[00m\n",
      " \u001b[93m|\u001b[32m  Meilleure solution réalisable (entière) de valeur 21.0 trouvée \u001b[00m\n",
      " \u001b[93m|\u001b[32m  Meilleure solution réalisable (entière) de valeur 23.0 trouvée \u001b[00m\n",
      " \u001b[93m|\u001b[32m  Meilleure solution réalisable (entière) de valeur 24.0 trouvée \u001b[00m\n",
      " \u001b[93m|\u001b[32m  Meilleure solution réalisable (entière) de valeur 26.0 trouvée \u001b[00m\n",
      " \u001b[93m|\u001b[32m  Meilleure solution réalisable (entière) de valeur 27.0 trouvée \u001b[00m\n",
      " \u001b[93m|\u001b[32m  Meilleure solution réalisable (entière) de valeur 29.0 trouvée \u001b[00m\n",
      " \u001b[93m|\u001b[00m  Relaxation du noeud résolue à l'optimalité avec la borne inférieure : 29.5\n",
      " \u001b[93m|\u001b[00m                                               et la borne supérieure : 29.5\n",
      "Deux noeuds sont créés en branchant sur x_(5,38)\n",
      "\u001b[94mLB=29.0, UB=29.5 \u001b[00m\n",
      "Liste des noeuds qu'il reste à traiter : [2, 3]\n",
      "\u001b[93mNOEUD n°3 :\u001b[00m\n",
      " \u001b[93m|\u001b[31m  Ce noeud est irréalisable et donc élagué \u001b[00m\n",
      " \u001b[93m|\u001b[31m  Ce noeud est élagué car irréalisable ou car sa borne est non-prometteuse \u001b[00m\n",
      "\u001b[94mLB=29.0, UB=29.5 \u001b[00m\n",
      "Liste des noeuds qu'il reste à traiter : [2]\n",
      "\u001b[93mNOEUD n°2 :\u001b[00m\n",
      " \u001b[93m|\u001b[32m  Meilleure solution réalisable (entière) de valeur 30.0 trouvée \u001b[00m\n",
      " \u001b[93m|\u001b[32m  Meilleure solution réalisable (entière) de valeur 31.0 trouvée \u001b[00m\n",
      " \u001b[93m|\u001b[32m  Meilleure solution réalisable (entière) de valeur 32.0 trouvée \u001b[00m\n",
      " \u001b[93m|\u001b[32m  Meilleure solution réalisable (entière) de valeur 34.0 trouvée \u001b[00m\n",
      " \u001b[93m|\u001b[32m  Meilleure solution réalisable (entière) de valeur 35.0 trouvée \u001b[00m\n",
      " \u001b[93m|\u001b[32m  Meilleure solution réalisable (entière) de valeur 36.0 trouvée \u001b[00m"
     ]
    }
   ],
   "source": [
    "global SP_VERSION = \"v2\"\n",
    "global BP_INIT_VERSION = \"v1\"\n",
    "result = @timed solve_BP()"
   ]
  },
  {
   "cell_type": "code",
   "execution_count": 143,
   "metadata": {},
   "outputs": [
    {
     "name": "stdout",
     "output_type": "stream",
     "text": [
      "Pour mettre le texte en couleur écrire \\e[ijm où i=3 ou i=9 pour l'intensité de la couleur j.\n",
      "(ne pas oublier de remettre \\e[00m en fin de ligne pour que la suite soit en noir)\n",
      " i\\j  _0   _1   _2   _3   _4   _5   _6   _7   _8   _9\n",
      " \u001b[00m3_  \u001b[30mabcd \u001b[31mabcd \u001b[32mabcd \u001b[33mabcd \u001b[34mabcd \u001b[35mabcd \u001b[36mabcd \u001b[37mabcd \u001b[38mabcd \u001b[39mabcd\n",
      " \u001b[00m9_  \u001b[90mabcd \u001b[91mabcd \u001b[92mabcd \u001b[93mabcd \u001b[94mabcd \u001b[95mabcd \u001b[96mabcd \u001b[97mabcd \u001b[98mabcd \u001b[99mabcd\n",
      "truc \u001b[00mtruc"
     ]
    }
   ],
   "source": [
    "println(\"Pour mettre le texte en couleur écrire \\\\e[ijm où i=3 ou i=9 pour l'intensité de la couleur j.\")\n",
    "println(\"(ne pas oublier de remettre \\\\e[00m en fin de ligne pour que la suite soit en noir)\")\n",
    "println(\" i\\\\j  _0   _1   _2   _3   _4   _5   _6   _7   _8   _9\")\n",
    "println(\" \\e[00m3_  \\e[30mabcd \\e[31mabcd \\e[32mabcd \\e[33mabcd \\e[34mabcd \\e[35mabcd \\e[36mabcd \\e[37mabcd \\e[38mabcd \\e[39mabcd\")\n",
    "println(\" \\e[00m9_  \\e[90mabcd \\e[91mabcd \\e[92mabcd \\e[93mabcd \\e[94mabcd \\e[95mabcd \\e[96mabcd \\e[97mabcd \\e[98mabcd \\e[99mabcd\")\n",
    "print(\"truc \\e[00mtruc\")"
   ]
  },
  {
   "cell_type": "markdown",
   "metadata": {},
   "source": [
    "Problème maître restreint ($\\mathcal C_L^R \\subset  \\mathcal C_L$) :\n",
    "$$\\begin{array}{rlccrlc}\n",
    "\\max        & \\displaystyle\\sum\\limits_{c\\in \\mathcal C_L^R} z_c w_c  & & \\iff &\n",
    "\\max        & \\displaystyle\\sum\\limits_{c\\in \\mathcal C_L^R} z_c \\sum_{(i,j) \\in E}\\bar x_{(i,j)}^c w_{(i,j)} \\\\\n",
    "\\text{sous} & \\displaystyle\\sum\\limits_{c\\in \\mathcal C_L^R \\,|\\, i\\in c} z_c \\le 1 & \\forall i\\in V & &\n",
    "\\text{sous} & \\displaystyle\\sum\\limits_{c\\in \\mathcal C_L^R} z_c \\,\\bar y_i^c \\le 1 & \\forall i\\in V ~~~\\big\\vert~~(\\pi_i)_{i\\in V}\\\\\n",
    "            & z \\in [0,1]^{|\\mathcal C_L^R|} & & & & z \\in [0,1]^{|\\mathcal C_L^R|}\n",
    "\\end{array}$$\n",
    "\n",
    "où :\n",
    "*  $\\bar x_{(i,j)}^c = 1$ si l'arc $(i,j)$ se trouve dans le cycle $c$, et $\\bar x_{(i,j)}^c = 0$ sinon\n",
    "*  $\\bar y_i^c = 1$ si le sommet $i$ fait partie du cycle $c$, et $\\bar y_i^c = 0$ sinon\n",
    "\n",
    "$~$  \n",
    "\n",
    "Sous-problème :\n",
    "$$\\begin{array}{rlcrlc}\n",
    "\\max        & \\displaystyle\\sum\\limits_{(i,j)\\in E} x_{(i,j)}^c w_{(i,j)} - \\sum\\limits_{i\\in V} \\pi_i^* y_i^c & \\iff &\n",
    "\\max        & \\displaystyle\\sum\\limits_{(i,j)\\in E} x_{(i,j)} w_{(i,j)} - \\sum\\limits_{i\\in V} \\pi_i^* y_i \\\\\n",
    "\\text{sous} & c\\in\\mathcal C_L & &\n",
    "\\text{sous} & \\displaystyle\\sum\\limits_{(i,j) \\in\\delta^-(i)} x_{(i,j)} = y_i & \\forall i\\in V\\\\\n",
    "      & & & & \\displaystyle\\sum\\limits_{(j,i) \\in\\delta^+(i)} x_{(j,i)} = y_i & \\forall i\\in V\\\\\n",
    "      & & & & \\displaystyle\\sum\\limits_{(i,j) \\in E} x_{(i,j)} \\le L \\\\\n",
    "      & & & & \\displaystyle\\sum\\limits_{(i,j) \\in E} x_{(i,j)} \\ge 2 \\\\\n",
    "      & & & & x \\in \\{0,1\\}^{|E|}, y \\in \\{0,1\\}^{|V|}\n",
    "\\end{array}$$\n",
    "\n",
    "$~$  \n",
    "\n",
    "Relaxation lagrangienne (avec $\\lambda_i \\ge 0$, $\\forall i\\in V$) :\n",
    "$$\\begin{array}{rlcrl}\n",
    "\\max        & \\displaystyle\\sum\\limits_{c\\in \\mathcal C_L} z_c \\big(\\sum_{(i,j) \\in E} \\bar x_{(i,j)}^c w_{(i,j)}\\big) + \\sum\\limits_{i\\in V}\\lambda_i \\big(1 - \\sum\\limits_{c\\in \\mathcal C_L} z_c \\, \\bar y_i^c \\big)\\\\\n",
    "\\text{sous} & z \\in [0,1]^{|\\mathcal C_L|}\n",
    "\\end{array}$$\n",
    "\n",
    "$$\\begin{aligned}\\displaystyle\\underset{z}{\\max}~\\sum\\limits_{c\\in \\mathcal C_L} z_c \\big(\\sum_{(i,j) \\in E} \\bar x_{(i,j)}^c w_{(i,j)}\\big) &+ \\sum\\limits_{i\\in V}\\lambda_i \\big(1 - \\sum\\limits_{c\\in \\mathcal C_L} z_c \\, \\bar y_i^c \\big)\\\\\n",
    "~~~~~ &= \\underset{z}{\\max}~\\sum\\limits_{i\\in V}\\lambda_i + \\sum\\limits_{c\\in \\mathcal C_L} z_c \\big(\\sum_{(i,j) \\in E} \\bar x_{(i,j)}^c w_{(i,j)} - \\sum\\limits_{i\\in V} \\bar y_i^c \\big)\\\\\n",
    "~~~~~ &\\le \\underset{z}{\\max}~\\sum\\limits_{i\\in V}\\lambda_i + {\\bf u}_\\text{SP}^*\\sum\\limits_{c\\in \\mathcal C_L} z_c \\\\\n",
    "~~~~~ &\\le \\underset{z}{\\max}~\\sum\\limits_{i\\in V}\\lambda_i + {\\bf u}_\\text{SP}^*\\times M\n",
    "\\end{aligned}$$\n",
    "\n",
    "\n",
    "où $\\displaystyle{\\bf u}_\\text{SP}^* := \\underset{c\\in\\mathcal C_L}{\\max}~\\sum\\limits_{(i,j)\\in E} x_{(i,j)}^c w_{(i,j)} - \\sum\\limits_{i\\in V} \\pi_i^* y_i^c~~$ (solution optimale du sous-problème)\n",
    "\n",
    "et $M$ est un majorant de $\\displaystyle\\sum\\limits_{c\\in \\mathcal C_L} z_c$ le nombre de cycles nécessaires finalement (on peut prendre $M=\\frac{|V|}2$).\n",
    "\n",
    "$$\\sum\\limits_{i\\in V}\\pi_i^* + M\\times {\\bf u}_\\text{SP}^*$$"
   ]
  },
  {
   "cell_type": "markdown",
   "metadata": {},
   "source": [
    "# Tests"
   ]
  },
  {
   "cell_type": "code",
   "execution_count": 106,
   "metadata": {},
   "outputs": [
    {
     "name": "stdout",
     "output_type": "stream",
     "text": [
      "1 3\n",
      "4 3\n",
      "2 3\n"
     ]
    }
   ],
   "source": [
    "x = Dict{String,Any}()\n",
    "x[\"vertices\"] = [1,0,1,1,0,0,0,0,0,0,0]\n",
    "x[\"oneedges\"] = [(1,3),(4,3),(2,3)]\n",
    "for (i,j) in x[\"oneedges\"]\n",
    "    println(\"$i $j\")\n",
    "end"
   ]
  },
  {
   "cell_type": "code",
   "execution_count": 121,
   "metadata": {},
   "outputs": [
    {
     "data": {
      "text/plain": [
       "3-element Array{Tuple{Int64,Int64},1}:\n",
       " (1, 3)\n",
       " (4, 3)\n",
       " (2, 3)"
      ]
     },
     "execution_count": 121,
     "metadata": {},
     "output_type": "execute_result"
    }
   ],
   "source": [
    "x[\"oneedges\"]"
   ]
  }
 ],
 "metadata": {
  "kernelspec": {
   "display_name": "Julia 1.5.3",
   "language": "julia",
   "name": "julia-1.5"
  },
  "language_info": {
   "file_extension": ".jl",
   "mimetype": "application/julia",
   "name": "julia",
   "version": "1.5.3"
  }
 },
 "nbformat": 4,
 "nbformat_minor": 2
}
