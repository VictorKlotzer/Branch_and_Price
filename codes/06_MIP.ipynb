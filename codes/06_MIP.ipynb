{
 "cells": [
  {
   "cell_type": "code",
   "execution_count": null,
   "metadata": {},
   "outputs": [],
   "source": [
    "# solve MIP for graph G with maximal cycle length L\n",
    "\n",
    "function solve_MIP(nb_max_cycles = 10^6)\n",
    "    # 'nb_max_cycles' est le nombre maximal de cycles qui peuvent être généré dans la fonction 'simplecycles_limited_length'\n",
    "    cycles = simplecycles_limited_length(GRAPH, L, nb_max_cycles)\n",
    "    \n",
    "    Wc = []\n",
    "    for c in cycles\n",
    "        push!(c,c[1]) # ajout du premier sommet du cycle à la fin de la liste pour \"faire le tour\"\n",
    "        push!(Wc, sum(WEIGHTS[(c[i],c[i+1])] for i in 1:length(c)-1))\n",
    "    end\n",
    "    \n",
    "    KEP = Model(Gurobi.Optimizer)\n",
    "\n",
    "    @variable(KEP, z[c in 1:length(cycles)], Bin)\n",
    "    \n",
    "    # Contrainte : chaque sommet (i.e. pair donneur/receveur) est choisi une fois au plus\n",
    "    @constraint(KEP, choosecycle[i in VERTICES], sum(z[c] for c in 1:length(cycles) if i in cycles[c]) <= 1)\n",
    "\n",
    "    # Objectif : maximiser le score total \n",
    "    @objective(KEP, Max, sum(Wc[c]*z[c] for c in 1:length(cycles)))\n",
    "    \n",
    "    optimize!(KEP)\n",
    "\n",
    "    return JuMP.objective_value(KEP), JuMP.value.(z)\n",
    "end"
   ]
  }
 ],
 "metadata": {
  "kernelspec": {
   "display_name": "Julia 1.5.3",
   "language": "julia",
   "name": "julia-1.5"
  },
  "language_info": {
   "file_extension": ".jl",
   "mimetype": "application/julia",
   "name": "julia",
   "version": "1.5.3"
  }
 },
 "nbformat": 4,
 "nbformat_minor": 2
}
