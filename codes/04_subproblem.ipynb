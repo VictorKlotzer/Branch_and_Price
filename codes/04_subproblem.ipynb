{
 "cells": [
  {
   "cell_type": "code",
   "execution_count": null,
   "metadata": {},
   "outputs": [],
   "source": [
    "function subproblem(π, node)\n",
    "    if SP_VERSION == \"v1\"\n",
    "        SPobj, column = subproblem_v1(π, node)\n",
    "    elseif SP_VERSION == \"v2\"\n",
    "        println(\"truc\")\n",
    "    end\n",
    "    \n",
    "    return SPobj, column        \n",
    "end"
   ]
  },
  {
   "cell_type": "code",
   "execution_count": null,
   "metadata": {},
   "outputs": [],
   "source": [
    "function subproblem_v1(π, node)\n",
    "    SP = Model(optimizer_with_attributes(() -> Gurobi.Optimizer(GUROBI_ENV)))\n",
    "    set_optimizer_attribute(SP, \"OutputFlag\", 0)\n",
    "    \n",
    "    @variable(SP, x[(i,j) in EDGES], Bin)\n",
    "    @variable(SP, y[i in VERTICES], Bin)\n",
    "    \n",
    "    for i in VERTICES\n",
    "        if length(outneighbors(GRAPH,i)) >= 1\n",
    "            @constraint(SP, sum(x[(i,j)] for j in outneighbors(GRAPH,i)) == y[i])  \n",
    "        else\n",
    "            @constraint(SP, 0 == y[i])  \n",
    "        end\n",
    "        if length(inneighbors(GRAPH,i)) >= 1\n",
    "            @constraint(SP, sum(x[(j,i)] for j in inneighbors(GRAPH,i)) == y[i])  \n",
    "        else\n",
    "            @constraint(SP, 0 == y[i])  \n",
    "        end\n",
    "    end\n",
    "    \n",
    "    @constraint(SP, sum(x[(i,j)] for (i,j) in EDGES) <= L)\n",
    "    @constraint(SP, sum(x[(i,j)] for (i,j) in EDGES) >= 2) \n",
    "    \n",
    "    @objective(SP, Max, sum(x[(i,j)]*WEIGHTS[(i,j)] for (i,j) in EDGES) - sum(π[i]*y[i] for i in VERTICES))\n",
    "    \n",
    "    # Ajout en plus des contraintes de branchement de ce noeud\n",
    "    for (i,j) in tree[node].setzero\n",
    "        @constraint(SP, x[(i,j)] == 0)\n",
    "    end\n",
    "    for (i,j) in tree[node].setone\n",
    "        @constraint(SP, x[(i,j)] == 1)\n",
    "    end\n",
    "                                    \n",
    "    # Résolution du sous-problème\n",
    "    optimize!(SP)\n",
    "\n",
    "    # Si le sous-problème est résolu à l'optimalité alors on retourne la valeur objective\n",
    "    #  et la colonne associée à la solution trouvée\n",
    "    # Sinon, si le problème est irréalisable, on retourne -Inf et []\n",
    "    if JuMP.termination_status(SP) == MOI.OPTIMAL\n",
    "        column = Dict{String,Any}() \n",
    "        column[\"vertices\"] = collect(JuMP.value.(y))\n",
    "        column[\"oneedges\"] = [(i,j) for (i,j) in EDGES if JuMP.value(x[(i,j)]) == 1.0]\n",
    "        return JuMP.objective_value(SP), column\n",
    "    else\n",
    "        return -Inf, []\n",
    "    end\n",
    "end"
   ]
  }
 ],
 "metadata": {
  "kernelspec": {
   "display_name": "Julia 1.5.3",
   "language": "julia",
   "name": "julia-1.5"
  },
  "language_info": {
   "file_extension": ".jl",
   "mimetype": "application/julia",
   "name": "julia",
   "version": "1.5.3"
  }
 },
 "nbformat": 4,
 "nbformat_minor": 2
}
