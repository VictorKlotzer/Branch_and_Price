{
 "cells": [
  {
   "cell_type": "code",
   "execution_count": 73,
   "metadata": {},
   "outputs": [
    {
     "data": {
      "text/plain": [
       "temps (generic function with 3 methods)"
      ]
     },
     "execution_count": 73,
     "metadata": {},
     "output_type": "execute_result"
    }
   ],
   "source": [
    "function temps(instance, liste_params)\n",
    "    data_folder = string(join(split(@__DIR__, '\\\\')[1:end-1],'\\\\'),\"\\\\data\")\n",
    "    wmd_file = joinpath(data_folder, join([instance, \".wmd\"]))\n",
    "    dat_file = joinpath(data_folder, join([instance, \".dat\"]))\n",
    "    \n",
    "    global GRAPH = read_graph(wmd_file, dat_file)\n",
    "    global VERTICES = 1:nv(GRAPH)\n",
    "    global EDGES = [(e.src,e.dst) for e in edges(GRAPH)]\n",
    "    global L = 3\n",
    "    global WEIGHTS = Dict{Tuple{Int,Int},Float32}((e.src,e.dst) => get_prop(GRAPH, e, :weight) for e in edges(GRAPH))\n",
    "    \n",
    "    n_couples = nv(GRAPH)\n",
    "    \n",
    "    result_MIP = @timed solve_MIP()\n",
    "    t_MIP = result_MIP.time\n",
    "    \n",
    "    t_BP = Array{Float32,1}(undef,length(liste_params))\n",
    "    nb_noeuds_BP = Array{Float32,1}(undef,length(liste_params))\n",
    "    \n",
    "    for param in liste_params\n",
    "        global BP_INIT_VERSION   = param[1]\n",
    "        global BRANCHING_VERSION = param[2]\n",
    "        global PROCESSING_RULE   = param[3]\n",
    "        \n",
    "        result_BP = @timed solve_BP()\n",
    "        push!(t_BP, result_BP.time)\n",
    "        push!(nb_noeuds_BP, result_BP.value[1])\n",
    "    end\n",
    "    \n",
    "    return n_couples, t_MIP, t_BP, nb_noeuds_BP\n",
    "end"
   ]
  },
  {
   "cell_type": "code",
   "execution_count": null,
   "metadata": {},
   "outputs": [],
   "source": [
    "function compare(instances, liste_param)\n",
    "    nb_instances = length(instances)\n",
    "    nb_couples = Array{Float32,1}(undef, nb_instances)\n",
    "    tps_MIP = Array{Float32,1}(undef, nb_instances)\n",
    "    tps_BP = Array{Array{Float32,1},1}(undef, nb_instances)\n",
    "    nb_noeuds = Array{Array{Float32,1},1}(undef, nb_instances)\n",
    "    \n",
    "    for i in 1:nb_instances\n",
    "        nb_couples[i], tps_MIP[i], tps_BP[i], nb_noeuds[i] = temps(instances[i], liste_param)\n",
    "    end\n",
    "    \n",
    "    tailles_instances = Set(nb_couples)\n",
    "    mean_tps_MIP    = Array{Float32,1}(undef, length(tailles_instances))\n",
    "    mean_tps_BP     = Array{Array{Float32,1},1}(undef,length(tailles_instances))\n",
    "    mean_nb_noeuds  = Array{Array{Float32,1},1}(undef, length(tailles_instances))\n",
    "    \n",
    "    for t in 1:length(tailles_instances)\n",
    "        indices = findall(nb_couples .== tailles_instances[t]) # indices des instances de dimension 'taille'\n",
    "        push!(mean_tps_MIP, mean(tps_MIP[indices]))\n",
    "        \n",
    "        sum_tps = Array{Float32,1}(undef, length(liste_params))\n",
    "        sum_nb_noeuds = Array{Float32,1}(undef, length(liste_params))\n",
    "        for i in indices\n",
    "            sum_tps = sum_tps .+ tps_BP[i]\n",
    "            sum_nb_noeuds = sum_nb_noeuds .+ nb_noeuds[i]\n",
    "        end\n",
    "        mean_tps_BP[t] = sum_tps ./ length(indices)\n",
    "        mean_nb_noeuds[t] = sum_nb_noeuds ./ length(indices)\n",
    "    end\n",
    "    \n",
    "    # On retourne les indices ...\n",
    "    mean_tps_BP_par_param = Array{Array{Float32,1},1}(undef, length(liste_params))\n",
    "    mean_nb_noeuds_par_param = Array{Array{Float32,1},1}(undef, length(liste_params))\n",
    "    for t in 1:length(tailles_instances)\n",
    "        mean_tps_BP_par_param[t] = Array{Float32,1}(undef, length(tailles_instances))\n",
    "        mean_nb_noeuds_par_param[t] = Array{Float32,1}(undef, length(tailles_instances))\n",
    "        for p in 1:length(liste_params)\n",
    "            mean_tps_BP_par_param[p][t] = mean_tps_BP[t][p]\n",
    "            mean_nb_noeuds_par_param[p][t] = mean_nb_noeuds[t][p]\n",
    "        end\n",
    "    end\n",
    "    \n",
    "    \n",
    "    \n",
    "    plot(tailles_instances, mean_tps_MIP)\n",
    "    for p in 1:length(liste_params)\n",
    "        plot!(tailles_instances, mean_tps_BP_par_param[p])\n",
    "    end\n",
    "    \n",
    "    plot(tailles_instances, mean_nb_noeuds_par_param[1])\n",
    "    for p in 2:length(liste_params)\n",
    "        plot!(tailles_instances, mean_nb_noeuds_par_param[p])\n",
    "    end \n",
    "\n",
    "end"
   ]
  }
 ],
 "metadata": {
  "kernelspec": {
   "display_name": "Julia 1.5.3",
   "language": "julia",
   "name": "julia-1.5"
  },
  "language_info": {
   "file_extension": ".jl",
   "mimetype": "application/julia",
   "name": "julia",
   "version": "1.5.3"
  }
 },
 "nbformat": 4,
 "nbformat_minor": 2
}
