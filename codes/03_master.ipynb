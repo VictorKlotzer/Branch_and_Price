{
 "cells": [
  {
   "cell_type": "code",
   "execution_count": null,
   "metadata": {},
   "outputs": [],
   "source": [
    "function node_master(node_pool)\n",
    "    master = Model(optimizer_with_attributes(() -> Gurobi.Optimizer(GUROBI_ENV)))\n",
    "    set_optimizer_attribute(master, \"OutputFlag\", 0)\n",
    "    \n",
    "    # Définiton des variables z_c\n",
    "    C = size(node_pool,1)\n",
    "    z = Array{VariableRef,1}(undef,C)\n",
    "    \n",
    "    # Ajout des variables au problème maître restreint\n",
    "    for c in 1:C\n",
    "        z[c] = @variable(master, lower_bound=0, upper_bound=1) \n",
    "        set_name(z[c], \"z_$c\")\n",
    "    end\n",
    "    \n",
    "    # Ajout de la contrainte : un couple donneur/receveur appartient au plus à un cycle\n",
    "    cyclechoice = @constraint(master, cyclechoice[i in VERTICES],\n",
    "                              sum(z[c]*node_pool[c][\"vertices\"][i] for c in 1:C) <= 1)\n",
    "    \n",
    "    # Ajout de l'objectif : maximiser le nombre d'échanges importants de reins\n",
    "    \n",
    "    @objective(master, Max, sum(z[c]*node_pool[c][\"cost\"] for c in 1:C))\n",
    "\n",
    "    # On renvoie les références des contraintes et des variables ainsi que le modèle\n",
    "    return cyclechoice, z, master\n",
    "end"
   ]
  }
 ],
 "metadata": {
  "kernelspec": {
   "display_name": "Julia 1.5.3",
   "language": "julia",
   "name": "julia-1.5"
  },
  "language_info": {
   "file_extension": ".jl",
   "mimetype": "application/julia",
   "name": "julia",
   "version": "1.5.3"
  }
 },
 "nbformat": 4,
 "nbformat_minor": 2
}
