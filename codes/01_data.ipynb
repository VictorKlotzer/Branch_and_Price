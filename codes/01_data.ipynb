{
 "cells": [
  {
   "cell_type": "markdown",
   "metadata": {},
   "source": [
    "Blabla"
   ]
  },
  {
   "cell_type": "code",
   "execution_count": null,
   "metadata": {},
   "outputs": [],
   "source": [
    "using DelimitedFiles\n",
    "using LightGraphs\n",
    "using MetaGraphs"
   ]
  },
  {
   "cell_type": "code",
   "execution_count": null,
   "metadata": {},
   "outputs": [],
   "source": [
    "function read_graph(wmd_file::String, dat_file::String)\n",
    "    \"\"\"\n",
    "    Contruct a graph from a `.wmd` and a `.dat` files from PrefLib.\n",
    "\n",
    "    # Parameters\n",
    "    * `wmd_file::String` : Absolute path of the `.wmd` file.\n",
    "    * `dat_file::String` : Absolute path of the `.dat` file.\n",
    "    \"\"\"\n",
    "    \n",
    "    wmd_file_name = split(split(wmd_file, '\\\\')[end], '.')[1]\n",
    "    dat_file_name = split(split(dat_file, '\\\\')[end], '.')[1]\n",
    "\n",
    "    wmd_file_name == dat_file_name || throw(ArgumentError(\".wmd and .dat files do not correspond to the same dataset.\"))\n",
    "    isfile(wmd_file) || throw(ArgumentError(\".wmd file not found.\"))\n",
    "    isfile(dat_file) || throw(ArgumentError(\".dat file not found.\"))\n",
    "    \n",
    "    println(\"********* Read instance $wmd_file_name *********\")\n",
    "\n",
    "    # Extract the graph structure from the .wmd file using a MetaGraph\n",
    "    file = readdlm(wmd_file, '\\n')\n",
    "    V = parse(Int, split(file[1],',')[1])\n",
    "    \n",
    "    # Create a directed metagraph with nodes V and inital edge weights 0 \n",
    "    graph = MetaDiGraph(V, 0)\n",
    "    for line in file[2:end]\n",
    "        splitted_line = split(line, ',')\n",
    "        if length(splitted_line) == 3\n",
    "            # /!\\ Pairs are numbered from 0 in the second part of the file\n",
    "            source = parse(Int, splitted_line[1]) + 1\n",
    "            destination = parse(Int, splitted_line[2]) + 1\n",
    "            weight = parse(Int, splitted_line[3])\n",
    "            # Create an arc with given source and destination\n",
    "            add_edge!(graph, source, destination)\n",
    "            # Set its weight property\n",
    "            set_prop!(graph, source, destination, :weight, weight)\n",
    "        end\n",
    "    end\n",
    "\n",
    "    return graph\n",
    "\n",
    "end"
   ]
  }
 ],
 "metadata": {
  "kernelspec": {
   "display_name": "Julia 1.5.3",
   "language": "julia",
   "name": "julia-1.5"
  },
  "language_info": {
   "file_extension": ".jl",
   "mimetype": "application/julia",
   "name": "julia",
   "version": "1.5.3"
  }
 },
 "nbformat": 4,
 "nbformat_minor": 2
}
